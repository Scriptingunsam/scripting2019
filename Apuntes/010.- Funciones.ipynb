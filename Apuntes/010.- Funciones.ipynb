{
 "cells": [
  {
   "cell_type": "markdown",
   "metadata": {},
   "source": [
    "# Funciones/métodos\n",
    "Son bloques de instrucciones que pueden ejecutarse múltiples veces. Pueden recibir y devolver información durante el proceso principal. Hay funciones que devuelven datos, que solo ejecutan instrucciones y las que hacen ambas cosas."
   ]
  },
  {
   "cell_type": "code",
   "execution_count": 45,
   "metadata": {},
   "outputs": [],
   "source": [
    "#Declaración\n",
    "#def FUNCION(ARGUMENTOS):\n",
    "#    INSTRUCCIONES DE FUNCION\n",
    "#    Return -> devuelve datos."
   ]
  },
  {
   "cell_type": "code",
   "execution_count": 10,
   "metadata": {},
   "outputs": [
    {
     "data": {
      "text/plain": [
       "268"
      ]
     },
     "execution_count": 10,
     "metadata": {},
     "output_type": "execute_result"
    }
   ],
   "source": [
    "#Hay funciones que devuelven informacion. Estas utilizan Return\n",
    "#para indicar que datos devolver.\n",
    "# devuelve el doble del numero entero ingresado.\n",
    "def doble(numero):\n",
    "    #instrucciones dentro de la funcion\n",
    "    #texto+='<- este es mi frase'\n",
    "    return numero*2\n",
    "doble(134)"
   ]
  },
  {
   "cell_type": "code",
   "execution_count": 11,
   "metadata": {},
   "outputs": [
    {
     "name": "stdout",
     "output_type": "stream",
     "text": [
      "2 x 1 = 2 \n",
      "2 x 2 = 4 \n",
      "2 x 3 = 6 \n",
      "2 x 4 = 8 \n",
      "2 x 5 = 10 \n",
      "2 x 6 = 12 \n",
      "2 x 7 = 14 \n",
      "2 x 8 = 16 \n",
      "2 x 9 = 18 \n",
      "2 x 10 = 20 \n"
     ]
    }
   ],
   "source": [
    "#Hay funciones que solo ejecutan instrucciones\n",
    "#Devuelve la tabla del dos\n",
    "def tablaDelDos():\n",
    "    for x in range(1,11):\n",
    "        print('2 x {} = {} '.format(x,x*2)) #en vez de return, print\n",
    "tablaDelDos()"
   ]
  },
  {
   "cell_type": "markdown",
   "metadata": {},
   "source": [
    "# Encapsulamiento\n",
    "Las variables creadas dentro de funciones solo son accesibles al ejecutar las mismas. No así las variables creadas fueras de la función son accesibles desde dentro de la misma."
   ]
  },
  {
   "cell_type": "code",
   "execution_count": 75,
   "metadata": {},
   "outputs": [
    {
     "ename": "NameError",
     "evalue": "name 'num' is not defined",
     "output_type": "error",
     "traceback": [
      "\u001b[1;31m---------------------------------------------------------------------------\u001b[0m",
      "\u001b[1;31mNameError\u001b[0m                                 Traceback (most recent call last)",
      "\u001b[1;32m<ipython-input-75-bc9b2f23eea4>\u001b[0m in \u001b[0;36m<module>\u001b[1;34m\u001b[0m\n\u001b[0;32m      4\u001b[0m     \u001b[0mnombre\u001b[0m\u001b[1;33m=\u001b[0m\u001b[1;34m'Emilio'\u001b[0m\u001b[1;33m\u001b[0m\u001b[1;33m\u001b[0m\u001b[0m\n\u001b[0;32m      5\u001b[0m \u001b[1;33m\u001b[0m\u001b[0m\n\u001b[1;32m----> 6\u001b[1;33m \u001b[0mnum\u001b[0m\u001b[1;33m\u001b[0m\u001b[1;33m\u001b[0m\u001b[0m\n\u001b[0m",
      "\u001b[1;31mNameError\u001b[0m: name 'num' is not defined"
     ]
    }
   ],
   "source": [
    "#creamos una variable dentro del metodo\n",
    "def numeros():\n",
    "    num=13\n",
    "    nombre='Emilio'\n",
    "    \n",
    "num"
   ]
  },
  {
   "cell_type": "code",
   "execution_count": 76,
   "metadata": {},
   "outputs": [
    {
     "name": "stdout",
     "output_type": "stream",
     "text": [
      "rojo<- color actual\n"
     ]
    }
   ],
   "source": [
    "#pero cuando se crea una variable desde fuera de una funcion\n",
    "#si podemos acceder a ella desde la función.\n",
    "color = 'rojo'\n",
    "def colores():\n",
    "    print(color+'<- color actual')\n",
    "\n",
    "colores()"
   ]
  },
  {
   "cell_type": "markdown",
   "metadata": {},
   "source": [
    "# Argumentos/parámetros\n",
    "Técnicamente son variables internas de la función que deben definirse al momento de ejecutar la misma.\n",
    "Argumentos se llaman en el momento de la declaración y parámetros en el momento de utilizar la función. Sirven para pasar datos a la función."
   ]
  },
  {
   "cell_type": "code",
   "execution_count": 89,
   "metadata": {},
   "outputs": [
    {
     "data": {
      "text/plain": [
       "True"
      ]
     },
     "execution_count": 89,
     "metadata": {},
     "output_type": "execute_result"
    }
   ],
   "source": [
    "#Está función devuelve True o False si el número ingresado es par o impar\n",
    "#respectivamente.\n",
    "def esPar(numero):\n",
    "    return numero%2==0\n",
    "\n",
    "esPar(31532)"
   ]
  },
  {
   "cell_type": "code",
   "execution_count": 81,
   "metadata": {},
   "outputs": [
    {
     "data": {
      "text/plain": [
       "'Hola Emi, como estas?'"
      ]
     },
     "execution_count": 81,
     "metadata": {},
     "output_type": "execute_result"
    }
   ],
   "source": [
    "#Tambien se pueden definir VALORES PREDETERMINADOS \n",
    "#para argumentos en la declaración\n",
    "def saludar(nombre='Emi'):\n",
    "    return 'Hola '+nombre +', como estas?'\n",
    "\n",
    "\n",
    "saludar()"
   ]
  },
  {
   "cell_type": "code",
   "execution_count": 96,
   "metadata": {},
   "outputs": [],
   "source": [
    "#None es un valor vacío para texto, se puede usar como valor predeterminado\n",
    "def mitad(numero=None):\n",
    "    return numero\n",
    "\n",
    "mitad()"
   ]
  },
  {
   "cell_type": "code",
   "execution_count": 20,
   "metadata": {},
   "outputs": [
    {
     "data": {
      "text/plain": [
       "[4]"
      ]
     },
     "execution_count": 20,
     "metadata": {},
     "output_type": "execute_result"
    }
   ],
   "source": [
    "#ARGUMENTOS INDEFINIDOS -> se pueden ingresar la cantidad de\n",
    "#parametros que querramos. \n",
    "def dobleLista(*args):\n",
    "    resultado=[]\n",
    "    for x in range(len(args)):\n",
    "        resultado.append(args[x]*2)\n",
    "    return resultado\n",
    "\n",
    "#con un parámetro       \n",
    "dobleLista(2)"
   ]
  },
  {
   "cell_type": "code",
   "execution_count": 39,
   "metadata": {},
   "outputs": [
    {
     "data": {
      "text/plain": [
       "[0, 2, 10, 14, 8, 6, 10, 8, 18, 18]"
      ]
     },
     "execution_count": 39,
     "metadata": {},
     "output_type": "execute_result"
    }
   ],
   "source": [
    "#puedo incluir todos los argumentos que quiera\n",
    "dobleLista(0,1,5,7,4,3,5,4,9,9)"
   ]
  },
  {
   "cell_type": "code",
   "execution_count": 55,
   "metadata": {},
   "outputs": [
    {
     "data": {
      "text/plain": [
       "{'claveUnica': 'valor/dato', 'nombre': 'emilio'}"
      ]
     },
     "execution_count": 55,
     "metadata": {},
     "output_type": "execute_result"
    }
   ],
   "source": [
    "#ARGUMENTOS INDEFINIDOS COMPUESTOS -> sirven para pasar pares de datos \n",
    "#relacionados en formato diccionario. \n",
    "\n",
    "#Ejemplo simple para entender como funciona\n",
    "def argumentosCompuestos(**kwargs):\n",
    "    return kwargs\n",
    "\n",
    "argumentosCompuestos(claveUnica='valor/dato',nombre='emilio')\n",
    "#FUNCION(CLAVE1=DATO1,CLAVE2=DATO2...CLAVEn,DATOn)"
   ]
  },
  {
   "cell_type": "code",
   "execution_count": 51,
   "metadata": {},
   "outputs": [
    {
     "name": "stdout",
     "output_type": "stream",
     "text": [
      "Emilio mide 1.76 mts de altura\n",
      "Rodrigo mide 2.1 mts de altura\n",
      "Ana mide 1.9 mts de altura\n"
     ]
    }
   ],
   "source": [
    "#Devuelve frase con nombre y altura de una persona.\n",
    "def tablaAltura(**kwargs):\n",
    "    for c,v in kwargs.items():\n",
    "        print('{} mide {} mts de altura'.format(c,v))\n",
    "\n",
    "tablaAltura(Emilio=1.76,Rodrigo=2.10,Ana=1.90)"
   ]
  },
  {
   "cell_type": "code",
   "execution_count": 68,
   "metadata": {},
   "outputs": [
    {
     "data": {
      "text/plain": [
       "[['nombre', 'elfo'], ['altura', 1.55], ['fuerza', 3.0], ['destreza', 9.0]]"
      ]
     },
     "execution_count": 68,
     "metadata": {},
     "output_type": "execute_result"
    }
   ],
   "source": [
    "#devuelve una tabla con atributos de personaje\n",
    "def tablaAtributos(**args):\n",
    "    resultado=[]\n",
    "    for c,v in args.items():\n",
    "        resultado.append([c,v])\n",
    "    return resultado\n",
    "\n",
    "tablaAtributos(nombre='elfo',\n",
    "               altura=1.55,\n",
    "               fuerza=3.0,\n",
    "              destreza=9.0)\n"
   ]
  },
  {
   "cell_type": "code",
   "execution_count": 98,
   "metadata": {},
   "outputs": [
    {
     "name": "stdout",
     "output_type": "stream",
     "text": [
      "[1.0, 1.5]\n"
     ]
    }
   ],
   "source": [
    "#También puede ser ARGUMENTOS INDEFINIDOS y ARGUMENTOS\n",
    "#INDEFINIDOS COMPUESTOS\n",
    "def ultraFuncion(*args,**kwargs):\n",
    "    resultadoArgs=[]\n",
    "    resultadoKwargs={}\n",
    "    for x in range(len(args)):\n",
    "        resultadoArgs.append(args[x]/2)\n",
    "    print(resultadoArgs)\n",
    "    for c in kwargs:\n",
    "        resultadoKwargs[c]=kwargs[c]\n",
    "        print(c,' ',kwargs[c])\n",
    "    #return resultadoArgs, resultadoKwargs\n",
    "\n",
    "ultraFuncion(2,3)"
   ]
  },
  {
   "cell_type": "code",
   "execution_count": 99,
   "metadata": {},
   "outputs": [
    {
     "name": "stdout",
     "output_type": "stream",
     "text": [
      "[1.5, 257.0, 1.5, 165.5, 222.5, 1.5]\n",
      "direccion   corrientes 1234\n",
      "altura   1.678\n"
     ]
    }
   ],
   "source": [
    "ultraFuncion(3,514,3,331,445,3,direccion='corrientes 1234',altura=1.678)"
   ]
  },
  {
   "cell_type": "code",
   "execution_count": null,
   "metadata": {},
   "outputs": [],
   "source": []
  }
 ],
 "metadata": {
  "kernelspec": {
   "display_name": "Python 3",
   "language": "python",
   "name": "python3"
  },
  "language_info": {
   "codemirror_mode": {
    "name": "ipython",
    "version": 3
   },
   "file_extension": ".py",
   "mimetype": "text/x-python",
   "name": "python",
   "nbconvert_exporter": "python",
   "pygments_lexer": "ipython3",
   "version": "3.7.2"
  }
 },
 "nbformat": 4,
 "nbformat_minor": 2
}
