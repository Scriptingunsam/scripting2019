{
 "cells": [
  {
   "cell_type": "markdown",
   "metadata": {},
   "source": [
    "# Prueba - excepción\n",
    "Son sentencias que permiten manejar errores en las instrucciones. si tira error  una instrucción, ejecuta otra. Normalmente se usan cuando las instrucciones implican tareas externas a python como conectarse a otros programas, leer y escribir archivos, pero pueden usarse para cualquier instrucción de python."
   ]
  },
  {
   "cell_type": "code",
   "execution_count": 2,
   "metadata": {},
   "outputs": [
    {
     "name": "stdout",
     "output_type": "stream",
     "text": [
      "importó correctamente el módulo\n"
     ]
    }
   ],
   "source": [
    "#sintaxis\n",
    "#try:\n",
    "#    INSTRUCCIONES a probar\n",
    "#except:\n",
    "#    INSTRUCCIONES al tirar error.\n",
    "try:\n",
    "    import fadf\n",
    "    print('importó correctamente el módulo')\n",
    "except:\n",
    "    print('no encuentra el módulo')"
   ]
  },
  {
   "cell_type": "code",
   "execution_count": 12,
   "metadata": {},
   "outputs": [
    {
     "name": "stdout",
     "output_type": "stream",
     "text": [
      "importó correctamente el módulo\n"
     ]
    }
   ],
   "source": [
    "#Ahora probamos con un módulo que si existe\n",
    "try:\n",
    "    import os \n",
    "    print('importó correctamente el módulo')\n",
    "except:\n",
    "    print('no encuentra el módulo')"
   ]
  },
  {
   "cell_type": "code",
   "execution_count": 4,
   "metadata": {},
   "outputs": [
    {
     "name": "stdout",
     "output_type": "stream",
     "text": [
      "no existe item\n"
     ]
    }
   ],
   "source": [
    "lista=[3,1,4,5]\n",
    "try:\n",
    "    print(lista[10])\n",
    "except:\n",
    "    print('no existe item')"
   ]
  },
  {
   "cell_type": "markdown",
   "metadata": {},
   "source": [
    "# Distintos tipos de errores\n",
    "Except puede usarse para gestionar distintos tipos de errores"
   ]
  },
  {
   "cell_type": "code",
   "execution_count": 8,
   "metadata": {},
   "outputs": [
    {
     "name": "stdout",
     "output_type": "stream",
     "text": [
      "no se puede dividir por 0\n"
     ]
    }
   ],
   "source": [
    "#division en 0\n",
    "try:\n",
    "    3/0\n",
    "except ZeroDivisionError:\n",
    "    print('no se puede dividir por 0')"
   ]
  },
  {
   "cell_type": "code",
   "execution_count": 10,
   "metadata": {},
   "outputs": [
    {
     "name": "stdout",
     "output_type": "stream",
     "text": [
      "3algo\n"
     ]
    }
   ],
   "source": [
    "#TypeError\n",
    "try:\n",
    "    variable= 3\n",
    "    print(1/variable+'algo')\n",
    "except TypeError:\n",
    "    print('no se puede concatenar int y str')"
   ]
  },
  {
   "cell_type": "code",
   "execution_count": 18,
   "metadata": {},
   "outputs": [
    {
     "name": "stdout",
     "output_type": "stream",
     "text": [
      "fdasf\n",
      "var debe ser un número\n"
     ]
    }
   ],
   "source": [
    "#ValueError\n",
    "try:\n",
    "    var = float(input())\n",
    "    print(var +1)\n",
    "except ValueError:\n",
    "    print('var debe ser un número')"
   ]
  },
  {
   "cell_type": "code",
   "execution_count": 6,
   "metadata": {},
   "outputs": [
    {
     "name": "stdout",
     "output_type": "stream",
     "text": [
      "Índice debe estar dentro de la longitud de lista\n"
     ]
    }
   ],
   "source": [
    "#IndexError\n",
    "lista=[0,1,5,3]\n",
    "try:\n",
    "    lista[10]\n",
    "except IndexError:\n",
    "    print('Índice debe estar dentro de la longitud de lista')"
   ]
  },
  {
   "cell_type": "code",
   "execution_count": 7,
   "metadata": {},
   "outputs": [
    {
     "name": "stdout",
     "output_type": "stream",
     "text": [
      "TypeError\n"
     ]
    }
   ],
   "source": [
    "#también se puede guardar el error\n",
    "try:\n",
    "    var = 'algo'\n",
    "    print(var +1)\n",
    "except Exception as e:\n",
    "    print(type(e).__name__) #e guarda el error"
   ]
  },
  {
   "cell_type": "code",
   "execution_count": 8,
   "metadata": {},
   "outputs": [
    {
     "name": "stdout",
     "output_type": "stream",
     "text": [
      "Índice debe estar dentro de la longitud de lista\n"
     ]
    }
   ],
   "source": [
    "#también se pueden usar múltiples except\n",
    "lista=[0,1,5,3]\n",
    "try:\n",
    "    lista[10]\n",
    "except IndexError:\n",
    "    print('Índice debe estar dentro de la longitud de lista')\n",
    "except ValueError:\n",
    "    print('var debe ser un número')\n",
    "except TypeError:\n",
    "    print('no se puede concatenar int y str')\n",
    "except ZeroDivisionError:\n",
    "    print('no se puede dividir por 0')\n",
    "except:\n",
    "    print('Error general')"
   ]
  },
  {
   "cell_type": "markdown",
   "metadata": {},
   "source": [
    "# Usar While para compensar tipos de errores"
   ]
  },
  {
   "cell_type": "code",
   "execution_count": 19,
   "metadata": {},
   "outputs": [
    {
     "name": "stdout",
     "output_type": "stream",
     "text": [
      "ingresar un número:\n",
      "valor incorrecto: debes ingresar un número\n",
      "ingresar un número:fasdf\n",
      "valor incorrecto: debes ingresar un número\n",
      "ingresar un número:\n",
      "valor incorrecto: debes ingresar un número\n",
      "ingresar un número:56876\n",
      "28438.0\n"
     ]
    }
   ],
   "source": [
    "#usando While True, se puede repetir indefinidamente\n",
    "#input hasta ingresar el valor deseado\n",
    "while True:\n",
    "    try:\n",
    "        num = float(input('ingresar un número:'))\n",
    "        resultado = num /2\n",
    "        print(resultado)\n",
    "        break\n",
    "    except ValueError:\n",
    "        print('valor incorrecto: debes ingresar un número')"
   ]
  },
  {
   "cell_type": "markdown",
   "metadata": {},
   "source": [
    "# Raise \n",
    "Permite levantar manualmente cualquier tipo de error para luego con except, controlar ese error."
   ]
  },
  {
   "cell_type": "code",
   "execution_count": 10,
   "metadata": {},
   "outputs": [
    {
     "name": "stdout",
     "output_type": "stream",
     "text": [
      "error de indice\n"
     ]
    }
   ],
   "source": [
    "#usamos raise para levantar un error de indice aunque no exista el error\n",
    "try:\n",
    "    var = 'algo'\n",
    "    raise IndexError('resultado de Raise')\n",
    "except IndexError:\n",
    "    print('error de indice') #e guarda el error\n",
    "    "
   ]
  },
  {
   "cell_type": "code",
   "execution_count": 11,
   "metadata": {},
   "outputs": [
    {
     "ename": "IndexError",
     "evalue": "resultado de Raise",
     "output_type": "error",
     "traceback": [
      "\u001b[1;31m---------------------------------------------------------------------------\u001b[0m",
      "\u001b[1;31mIndexError\u001b[0m                                Traceback (most recent call last)",
      "\u001b[1;32m<ipython-input-11-5e698ca2c9e9>\u001b[0m in \u001b[0;36m<module>\u001b[1;34m\u001b[0m\n\u001b[0;32m      1\u001b[0m \u001b[1;31m#fuera de try/except es más claro el resultado de raise\u001b[0m\u001b[1;33m\u001b[0m\u001b[1;33m\u001b[0m\u001b[1;33m\u001b[0m\u001b[0m\n\u001b[0;32m      2\u001b[0m \u001b[0mvar\u001b[0m \u001b[1;33m=\u001b[0m \u001b[1;34m'algo'\u001b[0m\u001b[1;33m\u001b[0m\u001b[1;33m\u001b[0m\u001b[0m\n\u001b[1;32m----> 3\u001b[1;33m \u001b[1;32mraise\u001b[0m \u001b[0mIndexError\u001b[0m\u001b[1;33m(\u001b[0m\u001b[1;34m'resultado de Raise'\u001b[0m\u001b[1;33m)\u001b[0m\u001b[1;33m\u001b[0m\u001b[1;33m\u001b[0m\u001b[0m\n\u001b[0m",
      "\u001b[1;31mIndexError\u001b[0m: resultado de Raise"
     ]
    }
   ],
   "source": [
    "#fuera de try/except es más claro el resultado de raise\n",
    "var = 'algo'\n",
    "raise IndexError('resultado de Raise')"
   ]
  },
  {
   "cell_type": "markdown",
   "metadata": {},
   "source": [
    "# Finally \n",
    "Permite agregar instrucciones al final de try, independiente de que hayan errores. Sirve para hacer limpieza de variables o para hacer instrucciones de cierre."
   ]
  },
  {
   "cell_type": "code",
   "execution_count": 20,
   "metadata": {},
   "outputs": [
    {
     "name": "stdout",
     "output_type": "stream",
     "text": [
      "ingrese un número:fasdf\n",
      "error de indice\n",
      "terminó la iteración\n"
     ]
    }
   ],
   "source": [
    "#tenemos iteraciones con try\n",
    "#usamos finally para saber cuando termina cada iteración\n",
    "import time\n",
    "while True:\n",
    "    try:\n",
    "        v = input('ingrese un número:')\n",
    "        print('letra 6ta posición:' + v[5])\n",
    "    except IndexError:\n",
    "        print('error de indice') #e guarda el error\n",
    "    finally:\n",
    "        print('terminó la iteración')\n",
    "        break"
   ]
  },
  {
   "cell_type": "code",
   "execution_count": null,
   "metadata": {},
   "outputs": [],
   "source": [
    "    "
   ]
  }
 ],
 "metadata": {
  "kernelspec": {
   "display_name": "Python 3",
   "language": "python",
   "name": "python3"
  },
  "language_info": {
   "codemirror_mode": {
    "name": "ipython",
    "version": 3
   },
   "file_extension": ".py",
   "mimetype": "text/x-python",
   "name": "python",
   "nbconvert_exporter": "python",
   "pygments_lexer": "ipython3",
   "version": "3.7.2"
  }
 },
 "nbformat": 4,
 "nbformat_minor": 2
}
