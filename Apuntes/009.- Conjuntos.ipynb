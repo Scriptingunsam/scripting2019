{
 "cells": [
  {
   "cell_type": "markdown",
   "metadata": {},
   "source": [
    "# Conjuntos\n",
    "Son colecciones de elementos únicos desordenados. Se usan para pruebas de pertenencia y eliminación de duplicados"
   ]
  },
  {
   "cell_type": "code",
   "execution_count": 19,
   "metadata": {},
   "outputs": [],
   "source": [
    "conjunto = set()"
   ]
  },
  {
   "cell_type": "code",
   "execution_count": 20,
   "metadata": {},
   "outputs": [
    {
     "data": {
      "text/plain": [
       "set()"
      ]
     },
     "execution_count": 20,
     "metadata": {},
     "output_type": "execute_result"
    }
   ],
   "source": [
    "conjunto"
   ]
  },
  {
   "cell_type": "code",
   "execution_count": 21,
   "metadata": {},
   "outputs": [
    {
     "data": {
      "text/plain": [
       "{1, 2, 3}"
      ]
     },
     "execution_count": 21,
     "metadata": {},
     "output_type": "execute_result"
    }
   ],
   "source": [
    "conjunto = {1,2,3}\n",
    "conjunto"
   ]
  },
  {
   "cell_type": "code",
   "execution_count": 1,
   "metadata": {},
   "outputs": [
    {
     "data": {
      "text/plain": [
       "{1, 2, 3, 4}"
      ]
     },
     "execution_count": 1,
     "metadata": {},
     "output_type": "execute_result"
    }
   ],
   "source": [
    "#se borran los elementos duplicados\n",
    "conjunto = {1,2,2,1,3,4}\n",
    "conjunto"
   ]
  },
  {
   "cell_type": "code",
   "execution_count": 23,
   "metadata": {},
   "outputs": [
    {
     "data": {
      "text/plain": [
       "{1, 2, 3, 4}"
      ]
     },
     "execution_count": 23,
     "metadata": {},
     "output_type": "execute_result"
    }
   ],
   "source": [
    "#agregar elementos, si ya existe en la conjunto no se agrega\n",
    "conjunto.add(2)\n",
    "conjunto"
   ]
  },
  {
   "cell_type": "code",
   "execution_count": 2,
   "metadata": {},
   "outputs": [
    {
     "data": {
      "text/plain": [
       "{1, 2, 3, 4, 5}"
      ]
     },
     "execution_count": 2,
     "metadata": {},
     "output_type": "execute_result"
    }
   ],
   "source": [
    "conjunto.add(5)\n",
    "conjunto"
   ]
  },
  {
   "cell_type": "code",
   "execution_count": 26,
   "metadata": {},
   "outputs": [
    {
     "ename": "TypeError",
     "evalue": "'set' object does not support indexing",
     "output_type": "error",
     "traceback": [
      "\u001b[1;31m---------------------------------------------------------------------------\u001b[0m",
      "\u001b[1;31mTypeError\u001b[0m                                 Traceback (most recent call last)",
      "\u001b[1;32m<ipython-input-26-f03e8d9336e5>\u001b[0m in \u001b[0;36m<module>\u001b[1;34m\u001b[0m\n\u001b[0;32m      1\u001b[0m \u001b[1;31m#no soporta indexación, el orden de los items se autogestiona por el conjunto\u001b[0m\u001b[1;33m\u001b[0m\u001b[1;33m\u001b[0m\u001b[1;33m\u001b[0m\u001b[0m\n\u001b[1;32m----> 2\u001b[1;33m \u001b[0mconjunto\u001b[0m\u001b[1;33m[\u001b[0m\u001b[1;36m2\u001b[0m\u001b[1;33m]\u001b[0m\u001b[1;33m\u001b[0m\u001b[1;33m\u001b[0m\u001b[0m\n\u001b[0m",
      "\u001b[1;31mTypeError\u001b[0m: 'set' object does not support indexing"
     ]
    }
   ],
   "source": [
    "#no soporta indexación, el orden de los items se autogestiona por el conjunto\n",
    "conjunto[2]"
   ]
  },
  {
   "cell_type": "code",
   "execution_count": 27,
   "metadata": {},
   "outputs": [
    {
     "data": {
      "text/plain": [
       "True"
      ]
     },
     "execution_count": 27,
     "metadata": {},
     "output_type": "execute_result"
    }
   ],
   "source": [
    "#Pertenencia al grupo se revisa con in\n",
    "1 in conjunto"
   ]
  },
  {
   "cell_type": "code",
   "execution_count": 28,
   "metadata": {},
   "outputs": [
    {
     "data": {
      "text/plain": [
       "False"
      ]
     },
     "execution_count": 28,
     "metadata": {},
     "output_type": "execute_result"
    }
   ],
   "source": [
    "7 in conjunto"
   ]
  },
  {
   "cell_type": "code",
   "execution_count": 29,
   "metadata": {},
   "outputs": [
    {
     "data": {
      "text/plain": [
       "{1, 2, 3, 4, 5}"
      ]
     },
     "execution_count": 29,
     "metadata": {},
     "output_type": "execute_result"
    }
   ],
   "source": [
    "coleccion"
   ]
  },
  {
   "cell_type": "code",
   "execution_count": 3,
   "metadata": {},
   "outputs": [
    {
     "data": {
      "text/plain": [
       "True"
      ]
     },
     "execution_count": 3,
     "metadata": {},
     "output_type": "execute_result"
    }
   ],
   "source": [
    "#Conjunto de joints para maya\n",
    "esqueleto={'hips','chest','hand'}\n",
    "'hips' in esqueleto"
   ]
  },
  {
   "cell_type": "code",
   "execution_count": 4,
   "metadata": {},
   "outputs": [
    {
     "data": {
      "text/plain": [
       "True"
      ]
     },
     "execution_count": 4,
     "metadata": {},
     "output_type": "execute_result"
    }
   ],
   "source": [
    "#Es práctico para chequear pertenencia\n",
    "'tail' not in esqueleto"
   ]
  },
  {
   "cell_type": "code",
   "execution_count": 9,
   "metadata": {},
   "outputs": [
    {
     "data": {
      "text/plain": [
       "{'chest', 'hand'}"
      ]
     },
     "execution_count": 9,
     "metadata": {},
     "output_type": "execute_result"
    }
   ],
   "source": [
    "#se pueden borrar elementos de un conjunto con el método discard\n",
    "esqueleto.discard('hips')\n",
    "esqueleto"
   ]
  },
  {
   "cell_type": "code",
   "execution_count": 12,
   "metadata": {},
   "outputs": [
    {
     "data": {
      "text/plain": [
       "{'a', 'c', 'd', 'e', 'n'}"
      ]
     },
     "execution_count": 12,
     "metadata": {},
     "output_type": "execute_result"
    }
   ],
   "source": [
    "set('cadena')"
   ]
  },
  {
   "cell_type": "code",
   "execution_count": 13,
   "metadata": {},
   "outputs": [
    {
     "data": {
      "text/plain": [
       "{'la'}"
      ]
     },
     "execution_count": 13,
     "metadata": {},
     "output_type": "execute_result"
    }
   ],
   "source": [
    "{'la','la','la'}"
   ]
  },
  {
   "cell_type": "code",
   "execution_count": 66,
   "metadata": {},
   "outputs": [
    {
     "name": "stdout",
     "output_type": "stream",
     "text": [
      "{1, 34, 3, 4, 5, 6, 7, 'emi', 2, 45}\n",
      "[6, '3']\n",
      "[4, '6']\n",
      "[4, '1']\n",
      "[3, '5']\n",
      "[2, 'emi']\n",
      "[2, '7']\n",
      "[2, '4']\n",
      "[2, '2']\n",
      "[1, '45']\n",
      "[1, '34']\n"
     ]
    }
   ],
   "source": [
    "nombres = ['vfx', 'vfx',1,1,1,3,3,4,5,6,13,3,5,1,2,2,3,4,7,3,6,6,5,45,34,3,3,2,1,2,3,4,5,6,7]\n",
    "coleccion = set(nombres)\n",
    "valoresUnicos=list(coleccion)\n",
    "diccionario = {}\n",
    "print(coleccion)\n",
    "resultado=[]\n",
    "'''\n",
    "for x in range(len(valoresUnicos)):\n",
    "    valor=nombres.count(valoresUnicos[x])\n",
    "    resultado.append([valor,str(valoresUnicos[x])])\n",
    "    print(str(valoresUnicos[x]) + '<-este valor se repite -> '+str(valor))\n",
    "    \n",
    "'''\n",
    "resultado = [[nombres.count(valoresUnicos[x]),str(valoresUnicos[x])] for x in range(len(valoresUnicos))]\n",
    "#print(resultado)\n",
    "resultado.sort()\n",
    "resultado.reverse()\n",
    "for x in range(len(resultado)):\n",
    "    print(resultado[x])\n",
    "    \n",
    "#[valoresUnicos[x]+':'+diccionario[valoresUnicos[x]] for x in range(len(valoresUnicos)) if diccionario[valoresUnicos[x]]]\n",
    "#print(coleccion)\n",
    "#print(tupla)\n",
    "#resultado = list(coleccion)\n",
    "#print(resultado)"
   ]
  },
  {
   "cell_type": "code",
   "execution_count": 24,
   "metadata": {},
   "outputs": [
    {
     "name": "stdout",
     "output_type": "stream",
     "text": [
      "nombre\n"
     ]
    }
   ],
   "source": [
    "path='c:\\directorio\\archivo.ext'\n",
    "materia='materia_turno_nombre'\n",
    "resultado= materia.split('_')\n",
    "\n",
    "print(resultado[2])"
   ]
  },
  {
   "cell_type": "code",
   "execution_count": 54,
   "metadata": {},
   "outputs": [
    {
     "name": "stdout",
     "output_type": "stream",
     "text": [
      "[[1, 'algo'], [3, 'ago'], [2, 'algo']]\n",
      "[[1, 'algo'], [2, 'algo'], [3, 'ago']]\n"
     ]
    }
   ],
   "source": [
    "lista = [\n",
    "    [1,'algo'],\n",
    "    [3,'ago'],\n",
    "    [2,'algo']\n",
    "]\n",
    "print(lista)\n",
    "lista.sort()\n",
    "#lista.reverse()\n",
    "\n",
    "print(lista)"
   ]
  },
  {
   "cell_type": "code",
   "execution_count": 86,
   "metadata": {},
   "outputs": [
    {
     "name": "stdout",
     "output_type": "stream",
     "text": [
      "['Fase 1 - Fundamentos de programacion', 'Fase 2 - Manejo de datos y optimizacion', 'Fase 3 - Programacion Orientada a Objetos', 'Fase 4 - Temas avanzados', 'notebook.bat']\n",
      "5\n",
      "Fase 1 - Fundamentos de programacion\n",
      "Fase 2 - Manejo de datos y optimizacion\n",
      "Fase 3 - Programacion Orientada a Objetos\n",
      "Fase 4 - Temas avanzados\n",
      "notebook.bat\n"
     ]
    }
   ],
   "source": [
    "import os \n",
    "archivos = os.listdir(r'G:\\Dropbox\\JOBS\\UNSAM\\SCRIPTING\\JUPYTER NOTEBOOK\\CursoPython')\n",
    "print(archivos)\n",
    "print(len(archivos))\n",
    "for x in range(len(archivos)):\n",
    "    print(archivos[x])"
   ]
  },
  {
   "cell_type": "code",
   "execution_count": null,
   "metadata": {},
   "outputs": [],
   "source": []
  }
 ],
 "metadata": {
  "kernelspec": {
   "display_name": "Python 3",
   "language": "python",
   "name": "python3"
  },
  "language_info": {
   "codemirror_mode": {
    "name": "ipython",
    "version": 3
   },
   "file_extension": ".py",
   "mimetype": "text/x-python",
   "name": "python",
   "nbconvert_exporter": "python",
   "pygments_lexer": "ipython3",
   "version": "3.7.2"
  }
 },
 "nbformat": 4,
 "nbformat_minor": 2
}
