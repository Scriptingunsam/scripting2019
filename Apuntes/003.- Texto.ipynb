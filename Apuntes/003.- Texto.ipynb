{
 "cells": [
  {
   "cell_type": "markdown",
   "metadata": {},
   "source": [
    "# Cadenas de caracteres o strings"
   ]
  },
  {
   "cell_type": "code",
   "execution_count": 1,
   "metadata": {},
   "outputs": [
    {
     "data": {
      "text/plain": [
       "'cadena de caracter con comillas simples'"
      ]
     },
     "execution_count": 1,
     "metadata": {},
     "output_type": "execute_result"
    }
   ],
   "source": [
    "'cadena de caracter con comillas simples'"
   ]
  },
  {
   "cell_type": "code",
   "execution_count": 2,
   "metadata": {},
   "outputs": [
    {
     "data": {
      "text/plain": [
       "'cadena de caracter con comillas dobles'"
      ]
     },
     "execution_count": 2,
     "metadata": {},
     "output_type": "execute_result"
    }
   ],
   "source": [
    "\"cadena de caracter con comillas dobles\""
   ]
  },
  {
   "cell_type": "code",
   "execution_count": 3,
   "metadata": {},
   "outputs": [
    {
     "data": {
      "text/plain": [
       "'se pueden usar \"comillas dobles\" adentro de simples'"
      ]
     },
     "execution_count": 3,
     "metadata": {},
     "output_type": "execute_result"
    }
   ],
   "source": [
    "'se pueden usar \"comillas dobles\" adentro de simples'"
   ]
  },
  {
   "cell_type": "code",
   "execution_count": 4,
   "metadata": {},
   "outputs": [
    {
     "data": {
      "text/plain": [
       "\"también se puede usar'comillas simples' adentro de dobles\""
      ]
     },
     "execution_count": 4,
     "metadata": {},
     "output_type": "execute_result"
    }
   ],
   "source": [
    "\"también se puede usar'comillas simples' adentro de dobles\""
   ]
  },
  {
   "cell_type": "markdown",
   "metadata": {},
   "source": [
    "# Print\n",
    "Print es una función/método que permite mostrar texto en pantalla.\n",
    "En python 2, el comando print se escribe sin paréntesis, por ejemplo -> print texto."
   ]
  },
  {
   "cell_type": "code",
   "execution_count": 5,
   "metadata": {},
   "outputs": [
    {
     "data": {
      "text/plain": [
       "'porque le falta, porque no tiene'"
      ]
     },
     "execution_count": 5,
     "metadata": {},
     "output_type": "execute_result"
    }
   ],
   "source": [
    "'la cucaracha, la cucaracha'\n",
    "'ya no puede caminar'\n",
    "'porque le falta, porque no tiene'"
   ]
  },
  {
   "cell_type": "code",
   "execution_count": 6,
   "metadata": {},
   "outputs": [
    {
     "name": "stdout",
     "output_type": "stream",
     "text": [
      "la cucaracha, la cucaracha\n",
      "ya no puede caminar\n",
      "porque le falta, porque no tiene\n"
     ]
    }
   ],
   "source": [
    "print('la cucaracha, la cucaracha')\n",
    "print('ya no puede caminar')\n",
    "print('porque le falta, porque no tiene')"
   ]
  },
  {
   "cell_type": "markdown",
   "metadata": {},
   "source": [
    "# Caracteres de escape o especiales"
   ]
  },
  {
   "cell_type": "code",
   "execution_count": 7,
   "metadata": {},
   "outputs": [
    {
     "name": "stdout",
     "output_type": "stream",
     "text": [
      "Un elefante \n",
      " se balanceaba  sobre \n",
      " la tela de una araña\n"
     ]
    }
   ],
   "source": [
    "# '\\n' <- es el caracter de escape para nueva linea, es como presionar Enter\n",
    "print('Un elefante \\n se balanceaba  sobre \\n la tela de una araña')"
   ]
  },
  {
   "cell_type": "code",
   "execution_count": 8,
   "metadata": {},
   "outputs": [
    {
     "name": "stdout",
     "output_type": "stream",
     "text": [
      "como veía \t que resistía \t fueron a llamar a otro elefante\n"
     ]
    }
   ],
   "source": [
    "# '\\t' <- es el caracter de escape para tabulación, es como presionar TAB\n",
    "print('como veía \\t que resistía \\t fueron a llamar a otro elefante')"
   ]
  },
  {
   "cell_type": "code",
   "execution_count": 9,
   "metadata": {},
   "outputs": [
    {
     "name": "stdout",
     "output_type": "stream",
     "text": [
      "como veía \"que resistía\" fueron a llamar a otro elefante\n"
     ]
    }
   ],
   "source": [
    "# '\\\"' <- es el caracter de escape para comillas dobles\n",
    "print('como veía \\\"que resistía\\\" fueron a llamar a otro elefante')"
   ]
  },
  {
   "cell_type": "code",
   "execution_count": 10,
   "metadata": {},
   "outputs": [
    {
     "name": "stdout",
     "output_type": "stream",
     "text": [
      "C:\\directorio1\\directorio2\\archivo.ext\n"
     ]
    }
   ],
   "source": [
    "# \\\\' <- caracter especial para barra invertida\n",
    "print('C:\\\\directorio1\\\\directorio2\\\\archivo.ext')"
   ]
  },
  {
   "cell_type": "markdown",
   "metadata": {},
   "source": [
    "# Strings para rutas de archivos"
   ]
  },
  {
   "cell_type": "code",
   "execution_count": 102,
   "metadata": {
    "scrolled": true
   },
   "outputs": [
    {
     "data": {
      "text/plain": [
       "'C:\\\\directorio1\\\\directorio2\\x07rchivo.ext'"
      ]
     },
     "execution_count": 102,
     "metadata": {},
     "output_type": "execute_result"
    }
   ],
   "source": [
    "# '\\' <- barra invertida es un caracter de escape, quiere decir que se usa para incluir instrucciones de formato en el string\n",
    "'C:\\directorio1\\directorio2\\archivo.ext'"
   ]
  },
  {
   "cell_type": "code",
   "execution_count": 12,
   "metadata": {},
   "outputs": [
    {
     "name": "stdout",
     "output_type": "stream",
     "text": [
      "C:\\directorio1\\directorio2\u0007rchivo.ext\n"
     ]
    }
   ],
   "source": [
    "# con el comando print puedo mostrar en pantalla el string resultado.\n",
    "print('C:\\directorio1\\directorio2\\archivo.ext')"
   ]
  },
  {
   "cell_type": "code",
   "execution_count": 13,
   "metadata": {},
   "outputs": [
    {
     "name": "stdout",
     "output_type": "stream",
     "text": [
      "C:\\directorio1\\directorio2\\archivo.ext\n"
     ]
    }
   ],
   "source": [
    "# \"r\" <- interpreta el string SIN caracteres especiales, en crudo(RAW).\n",
    "print(r'C:\\directorio1\\directorio2\\archivo.ext')"
   ]
  },
  {
   "cell_type": "code",
   "execution_count": 14,
   "metadata": {},
   "outputs": [
    {
     "name": "stdout",
     "output_type": "stream",
     "text": [
      "C:\\directorio1\\directorio2\\archivo.ext\n"
     ]
    }
   ],
   "source": [
    "# en vez de poner 'r', también podemos usar '\\\\' (caracter especial para barra invertida)\n",
    "print('C:\\\\directorio1\\\\directorio2\\\\archivo.ext')"
   ]
  },
  {
   "cell_type": "markdown",
   "metadata": {},
   "source": [
    "# Strings y variables"
   ]
  },
  {
   "cell_type": "code",
   "execution_count": 15,
   "metadata": {},
   "outputs": [],
   "source": [
    "texto = 'yo tengo un \\n tallarín'"
   ]
  },
  {
   "cell_type": "code",
   "execution_count": 16,
   "metadata": {},
   "outputs": [
    {
     "name": "stdout",
     "output_type": "stream",
     "text": [
      "yo tengo un \n",
      " tallarín\n"
     ]
    }
   ],
   "source": [
    "print(texto)"
   ]
  },
  {
   "cell_type": "code",
   "execution_count": 17,
   "metadata": {},
   "outputs": [
    {
     "name": "stdout",
     "output_type": "stream",
     "text": [
      "\n",
      "yo tengo un tallarin,\n",
      "que se pegotea\n",
      "y te lo comes \t tu\n",
      "\n"
     ]
    }
   ],
   "source": [
    "#se pueden usar comillas triples para cadenas largas también \"\"\" \n",
    "textoLargo = \"\"\"\n",
    "yo tengo un tallarin,\n",
    "que se pegotea\n",
    "y te lo comes \\t tu\n",
    "\"\"\"\n",
    "print(textoLargo)"
   ]
  },
  {
   "cell_type": "markdown",
   "metadata": {},
   "source": [
    "# Índices y slicing en string"
   ]
  },
  {
   "cell_type": "code",
   "execution_count": 80,
   "metadata": {},
   "outputs": [
    {
     "data": {
      "text/plain": [
       "'S'"
      ]
     },
     "execution_count": 80,
     "metadata": {},
     "output_type": "execute_result"
    }
   ],
   "source": [
    "#Con indices podemos obtener una letra específica del string\n",
    "frase = 'Scripting'\n",
    "frase[0]"
   ]
  },
  {
   "cell_type": "markdown",
   "metadata": {},
   "source": [
    "Cada letra tiene un indice en formato: 0,1,2,3... N (empieza en 0).\n",
    "\n",
    "A su vez, también tiene indices invertidos en formato:N...-3,-2,-1(termina en -1)"
   ]
  },
  {
   "cell_type": "code",
   "execution_count": 81,
   "metadata": {},
   "outputs": [],
   "source": [
    "#       'Scripting'\n",
    "#       [012345678] índice\n",
    "#       [---------] \n",
    "#       [987654321] indice invertido"
   ]
  },
  {
   "cell_type": "code",
   "execution_count": 82,
   "metadata": {},
   "outputs": [
    {
     "data": {
      "text/plain": [
       "'g'"
      ]
     },
     "execution_count": 82,
     "metadata": {},
     "output_type": "execute_result"
    }
   ],
   "source": [
    "#la ultima letra sería:\n",
    "frase[8]"
   ]
  },
  {
   "cell_type": "code",
   "execution_count": 83,
   "metadata": {},
   "outputs": [
    {
     "data": {
      "text/plain": [
       "'g'"
      ]
     },
     "execution_count": 83,
     "metadata": {},
     "output_type": "execute_result"
    }
   ],
   "source": [
    "#Pero también podemos obtener la última letra con el indice invertido\n",
    "frase[-1]"
   ]
  },
  {
   "cell_type": "code",
   "execution_count": 85,
   "metadata": {},
   "outputs": [
    {
     "name": "stdout",
     "output_type": "stream",
     "text": [
      "Scripting\n"
     ]
    },
    {
     "data": {
      "text/plain": [
       "'ripti'"
      ]
     },
     "execution_count": 85,
     "metadata": {},
     "output_type": "execute_result"
    }
   ],
   "source": [
    "#SLICING permite obtener pedazos del string en formato [inicio:fin]\n",
    "print(frase)\n",
    "frase[2:7]"
   ]
  },
  {
   "cell_type": "code",
   "execution_count": 86,
   "metadata": {},
   "outputs": [
    {
     "data": {
      "text/plain": [
       "'ripting'"
      ]
     },
     "execution_count": 86,
     "metadata": {},
     "output_type": "execute_result"
    }
   ],
   "source": [
    "#Sino se especifíca llega hasta el final\n",
    "frase[2:]"
   ]
  },
  {
   "cell_type": "code",
   "execution_count": 89,
   "metadata": {},
   "outputs": [
    {
     "data": {
      "text/plain": [
       "'Script'"
      ]
     },
     "execution_count": 89,
     "metadata": {},
     "output_type": "execute_result"
    }
   ],
   "source": [
    "#lo mismo al inicio\n",
    "frase[:6]"
   ]
  },
  {
   "cell_type": "code",
   "execution_count": 35,
   "metadata": {},
   "outputs": [
    {
     "data": {
      "text/plain": [
       "'13579'"
      ]
     },
     "execution_count": 35,
     "metadata": {},
     "output_type": "execute_result"
    }
   ],
   "source": [
    "#slicing también tiene STEP o cada tantos indices obtener letra [inicio:fin:step]\n",
    "numeros = '123456789'\n",
    "numeros[::2]"
   ]
  },
  {
   "cell_type": "code",
   "execution_count": 90,
   "metadata": {},
   "outputs": [
    {
     "name": "stdout",
     "output_type": "stream",
     "text": [
      "gnitpircS\n",
      "987654321\n"
     ]
    }
   ],
   "source": [
    "#Step se puede usar también para invertir string\n",
    "print(frase[::-1])\n",
    "print(numeros[::-1])"
   ]
  },
  {
   "cell_type": "code",
   "execution_count": 32,
   "metadata": {},
   "outputs": [
    {
     "ename": "IndexError",
     "evalue": "string index out of range",
     "output_type": "error",
     "traceback": [
      "\u001b[1;31m---------------------------------------------------------------------------\u001b[0m",
      "\u001b[1;31mIndexError\u001b[0m                                Traceback (most recent call last)",
      "\u001b[1;32m<ipython-input-32-67a9e265182d>\u001b[0m in \u001b[0;36m<module>\u001b[1;34m\u001b[0m\n\u001b[0;32m      1\u001b[0m \u001b[1;31m#si esta fuera de indice tira error\u001b[0m\u001b[1;33m\u001b[0m\u001b[1;33m\u001b[0m\u001b[1;33m\u001b[0m\u001b[0m\n\u001b[1;32m----> 2\u001b[1;33m \u001b[0mnumeros\u001b[0m\u001b[1;33m[\u001b[0m\u001b[1;36m99\u001b[0m\u001b[1;33m]\u001b[0m\u001b[1;33m\u001b[0m\u001b[1;33m\u001b[0m\u001b[0m\n\u001b[0m",
      "\u001b[1;31mIndexError\u001b[0m: string index out of range"
     ]
    }
   ],
   "source": [
    "#si esta fuera de indice tira error\n",
    "numeros[99]"
   ]
  },
  {
   "cell_type": "code",
   "execution_count": 91,
   "metadata": {},
   "outputs": [
    {
     "data": {
      "text/plain": [
       "'123456789'"
      ]
     },
     "execution_count": 91,
     "metadata": {},
     "output_type": "execute_result"
    }
   ],
   "source": [
    "#pero si está en slicing no, toma todos los caracteres intermedios como vacíos\n",
    "numeros[:99]"
   ]
  },
  {
   "cell_type": "markdown",
   "metadata": {},
   "source": [
    "# Operaciones con Strings"
   ]
  },
  {
   "cell_type": "code",
   "execution_count": 92,
   "metadata": {},
   "outputs": [
    {
     "data": {
      "text/plain": [
       "'123456789Scripting'"
      ]
     },
     "execution_count": 92,
     "metadata": {},
     "output_type": "execute_result"
    }
   ],
   "source": [
    "#Concatenar: se pueden unir o sumar Strings\n",
    "sumaString = numeros + frase\n",
    "sumaString"
   ]
  },
  {
   "cell_type": "code",
   "execution_count": 93,
   "metadata": {},
   "outputs": [
    {
     "data": {
      "text/plain": [
       "'ScriptingScriptingScripting'"
      ]
     },
     "execution_count": 93,
     "metadata": {},
     "output_type": "execute_result"
    }
   ],
   "source": [
    "#También se puede multiplicar\n",
    "multiplicacionString = frase*3\n",
    "multiplicacionString"
   ]
  },
  {
   "cell_type": "markdown",
   "metadata": {},
   "source": [
    "# Errores"
   ]
  },
  {
   "cell_type": "code",
   "execution_count": 94,
   "metadata": {},
   "outputs": [
    {
     "ename": "TypeError",
     "evalue": "'str' object does not support item assignment",
     "output_type": "error",
     "traceback": [
      "\u001b[1;31m---------------------------------------------------------------------------\u001b[0m",
      "\u001b[1;31mTypeError\u001b[0m                                 Traceback (most recent call last)",
      "\u001b[1;32m<ipython-input-94-515afec723de>\u001b[0m in \u001b[0;36m<module>\u001b[1;34m\u001b[0m\n\u001b[0;32m      1\u001b[0m \u001b[1;31m#si tratamos de asignar un valor usando indice tira error.\u001b[0m\u001b[1;33m\u001b[0m\u001b[1;33m\u001b[0m\u001b[1;33m\u001b[0m\u001b[0m\n\u001b[0;32m      2\u001b[0m \u001b[1;31m#Esto es porque los strings son INMUTABLES, no se pueden cambiar letras de un STRING\u001b[0m\u001b[1;33m\u001b[0m\u001b[1;33m\u001b[0m\u001b[1;33m\u001b[0m\u001b[0m\n\u001b[1;32m----> 3\u001b[1;33m \u001b[0mfrase\u001b[0m\u001b[1;33m[\u001b[0m\u001b[1;36m0\u001b[0m\u001b[1;33m]\u001b[0m \u001b[1;33m=\u001b[0m \u001b[1;34m'H'\u001b[0m\u001b[1;33m\u001b[0m\u001b[1;33m\u001b[0m\u001b[0m\n\u001b[0m",
      "\u001b[1;31mTypeError\u001b[0m: 'str' object does not support item assignment"
     ]
    }
   ],
   "source": [
    "#si tratamos de asignar un valor usando indice tira error. \n",
    "#Esto es porque los strings son INMUTABLES, no se pueden cambiar letras de un STRING\n",
    "frase[0] = 'H'"
   ]
  },
  {
   "cell_type": "code",
   "execution_count": 95,
   "metadata": {},
   "outputs": [
    {
     "data": {
      "text/plain": [
       "'Hcripting'"
      ]
     },
     "execution_count": 95,
     "metadata": {},
     "output_type": "execute_result"
    }
   ],
   "source": [
    "#sin embargo podemos usar slicing y concatenación para crear un string nuevo modificado como deseamos.\n",
    "fraseNueva = 'H'+frase[1:]\n",
    "fraseNueva"
   ]
  },
  {
   "cell_type": "markdown",
   "metadata": {},
   "source": [
    "# Métodos útiles con Strings"
   ]
  },
  {
   "cell_type": "code",
   "execution_count": 96,
   "metadata": {},
   "outputs": [
    {
     "data": {
      "text/plain": [
       "9"
      ]
     },
     "execution_count": 96,
     "metadata": {},
     "output_type": "execute_result"
    }
   ],
   "source": [
    "#len() nos devuelve un número entero con la cantidad de letras en un string\n",
    "len(frase)"
   ]
  },
  {
   "cell_type": "code",
   "execution_count": 97,
   "metadata": {},
   "outputs": [
    {
     "data": {
      "text/plain": [
       "9"
      ]
     },
     "execution_count": 97,
     "metadata": {},
     "output_type": "execute_result"
    }
   ],
   "source": [
    "len(numeros)"
   ]
  },
  {
   "cell_type": "code",
   "execution_count": 98,
   "metadata": {},
   "outputs": [
    {
     "name": "stdout",
     "output_type": "stream",
     "text": [
      "SCRIPTING\n",
      "Scripting\n"
     ]
    }
   ],
   "source": [
    "#upper() devuelve todas las letras a mayusculas, no modifica el string original.\n",
    "print(frase.upper())\n",
    "print(frase)"
   ]
  },
  {
   "cell_type": "code",
   "execution_count": 99,
   "metadata": {},
   "outputs": [
    {
     "name": "stdout",
     "output_type": "stream",
     "text": [
      "scripting\n",
      "Scripting\n"
     ]
    }
   ],
   "source": [
    "#lower() idem anterior pero con minúsculas\n",
    "print(frase.lower())\n",
    "print(frase)"
   ]
  },
  {
   "cell_type": "code",
   "execution_count": 100,
   "metadata": {},
   "outputs": [
    {
     "name": "stdout",
     "output_type": "stream",
     "text": [
      "Al que madruga. dios lo ayuda.\n"
     ]
    }
   ],
   "source": [
    "#capitalize() agrega mayuscula al inicio de la frase\n",
    "print('al que madruga. dios lo ayuda.'.capitalize())"
   ]
  },
  {
   "cell_type": "code",
   "execution_count": 101,
   "metadata": {},
   "outputs": [
    {
     "name": "stdout",
     "output_type": "stream",
     "text": [
      "Al que madruga, Dios lo ayuda 35 veces.\n"
     ]
    }
   ],
   "source": [
    "# % permite insertar variables dentro de strings en lugares específicos para no tener que usar demasiada concatenación.\n",
    "print('Al que madruga, %s lo ayuda %i veces.'%('Dios',35))"
   ]
  },
  {
   "cell_type": "code",
   "execution_count": 10,
   "metadata": {},
   "outputs": [
    {
     "name": "stdout",
     "output_type": "stream",
     "text": [
      "Al que madruga, Dios lo ayuda 00035 veces.\n"
     ]
    }
   ],
   "source": [
    "# idem que %, format permite además agregar formatos numéricos tipo 0001\n",
    "print('Al que madruga, {} lo ayuda {:05d} veces.'.format('Dios',35))"
   ]
  },
  {
   "cell_type": "code",
   "execution_count": null,
   "metadata": {},
   "outputs": [],
   "source": []
  }
 ],
 "metadata": {
  "kernelspec": {
   "display_name": "Python 3",
   "language": "python",
   "name": "python3"
  },
  "language_info": {
   "codemirror_mode": {
    "name": "ipython",
    "version": 3
   },
   "file_extension": ".py",
   "mimetype": "text/x-python",
   "name": "python",
   "nbconvert_exporter": "python",
   "pygments_lexer": "ipython3",
   "version": "3.7.2"
  }
 },
 "nbformat": 4,
 "nbformat_minor": 2
}
