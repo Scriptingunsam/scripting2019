{
 "cells": [
  {
   "cell_type": "markdown",
   "metadata": {},
   "source": [
    "# Sentencia If\n",
    "Permite dividir el flujo de un programa en dos. Utiliza operadores y expresiones lógicas."
   ]
  },
  {
   "cell_type": "code",
   "execution_count": null,
   "metadata": {},
   "outputs": [],
   "source": [
    "#if CONDICION:\n",
    "#    INSTRUCCIÓN SI LA CONDICIÓN ES VERDADERA\n",
    "#else:\n",
    "#    INSTRUCCIÓN SI LA CONDICION ES FALSA"
   ]
  },
  {
   "cell_type": "code",
   "execution_count": 5,
   "metadata": {},
   "outputs": [
    {
     "name": "stdout",
     "output_type": "stream",
     "text": [
      "False\n"
     ]
    }
   ],
   "source": [
    "#Si el semaforo está en rojo controlamos la variable cruzarCalle\n",
    "if semaforo == 'rojo':\n",
    "    cruzarCalle = False\n",
    "else:\n",
    "    cruzarCalle = True"
   ]
  },
  {
   "cell_type": "markdown",
   "metadata": {},
   "source": [
    "# Sentencia for\n",
    "Se usa para recorrer una lista o realizar múltipes instrucciones durante un determinado numero de pasos. Formato:"
   ]
  },
  {
   "cell_type": "code",
   "execution_count": 1,
   "metadata": {},
   "outputs": [],
   "source": [
    "#for ITEMS in LISTA:\n",
    "#    INSTRUCCIÓN para realizar con cada ITEM"
   ]
  },
  {
   "cell_type": "code",
   "execution_count": 3,
   "metadata": {},
   "outputs": [
    {
     "name": "stdout",
     "output_type": "stream",
     "text": [
      "lunes\n",
      "martes\n",
      "miercoles\n",
      "jueves\n",
      "viernes\n",
      "sabado\n",
      "domingo\n"
     ]
    }
   ],
   "source": [
    "#queremos mostrar el nombre en pantalla de los dias de la semana\n",
    "dias=['lunes','martes','miercoles','jueves','viernes','sabado','domingo']\n",
    "for dia in dias:\n",
    "    print(dia)"
   ]
  },
  {
   "cell_type": "code",
   "execution_count": 5,
   "metadata": {},
   "outputs": [
    {
     "name": "stdout",
     "output_type": "stream",
     "text": [
      "lunes\n",
      "martes\n",
      "miercoles\n",
      "jueves\n",
      "viernes\n",
      "sabado\n",
      "domingo\n"
     ]
    }
   ],
   "source": [
    "#ITEM es una variable que devolverá cada item de lista y puede llamarse de cualquier forma, por ejemplo\n",
    "for hhdf in dias:\n",
    "    print(hhdf)"
   ]
  },
  {
   "cell_type": "markdown",
   "metadata": {},
   "source": [
    "# Range()\n",
    "Es una funcion que devuelve una lista de numeros enteros. Requiere definir la longitud de la lista"
   ]
  },
  {
   "cell_type": "code",
   "execution_count": 12,
   "metadata": {},
   "outputs": [
    {
     "data": {
      "text/plain": [
       "[3, 4, 5, 6, 7, 8]"
      ]
     },
     "execution_count": 12,
     "metadata": {},
     "output_type": "execute_result"
    }
   ],
   "source": [
    "#sintaxis:\n",
    "#range(comienzo, fin)\n",
    "list(range(3,9))"
   ]
  },
  {
   "cell_type": "code",
   "execution_count": 13,
   "metadata": {},
   "outputs": [
    {
     "data": {
      "text/plain": [
       "[0, 1, 2, 3, 4, 5, 6, 7, 8]"
      ]
     },
     "execution_count": 13,
     "metadata": {},
     "output_type": "execute_result"
    }
   ],
   "source": [
    "#sino definimos el comienzo, toma desde 0\n",
    "list(range(9))"
   ]
  },
  {
   "cell_type": "code",
   "execution_count": 18,
   "metadata": {},
   "outputs": [
    {
     "name": "stdout",
     "output_type": "stream",
     "text": [
      "1 instrucción\n",
      "2 instrucción\n",
      "3 instrucción\n",
      "4 instrucción\n",
      "5 instrucción\n",
      "6 instrucción\n",
      "7 instrucción\n",
      "8 instrucción\n",
      "9 instrucción\n"
     ]
    }
   ],
   "source": [
    "#Al usar range en for, se puede controlar la cantidad de veces que \n",
    "#se repiten instruccinoes\n",
    "for x in range(9):\n",
    "    print(str(x+1)+' instrucción')"
   ]
  },
  {
   "cell_type": "code",
   "execution_count": 1,
   "metadata": {},
   "outputs": [
    {
     "name": "stdout",
     "output_type": "stream",
     "text": [
      "[0, 1, 2, 3, 4, 5, 6, 7]\n"
     ]
    }
   ],
   "source": [
    "#de esta manera podemos ver la lista que genera range\n",
    "print (list(range(8)))"
   ]
  },
  {
   "cell_type": "markdown",
   "metadata": {},
   "source": [
    "# Sentencia While\n",
    "Realiza una iteración mientras la condicion sea verdadera, es útil cuando no sabemos exactamente la cantidad de veces que se debe iterar."
   ]
  },
  {
   "cell_type": "code",
   "execution_count": 9,
   "metadata": {},
   "outputs": [],
   "source": [
    "#while CONDICION:\n",
    "#    REPITE INSTRUCCIONES mientras CONDICION sea verdadera"
   ]
  },
  {
   "cell_type": "code",
   "execution_count": 14,
   "metadata": {},
   "outputs": [
    {
     "name": "stdout",
     "output_type": "stream",
     "text": [
      "1 iteración\n",
      "2 iteración\n",
      "3 iteración\n",
      "4 iteración\n",
      "5 iteración\n",
      "6 iteración\n",
      "7 iteración\n",
      "8 iteración\n",
      "9 iteración\n",
      "10 iteración\n"
     ]
    }
   ],
   "source": [
    "#queremos iterar mientras X sea menor que 10\n",
    "n = 0\n",
    "while n < 10:\n",
    "    n+=1\n",
    "    print(str(n)+' iteración')"
   ]
  },
  {
   "cell_type": "code",
   "execution_count": 2,
   "metadata": {},
   "outputs": [
    {
     "name": "stdout",
     "output_type": "stream",
     "text": [
      "1 INSTRUCCION\n",
      "2 INSTRUCCION\n",
      "3 INSTRUCCION\n",
      "4 INSTRUCCION\n",
      "5 INSTRUCCION\n",
      "6 INSTRUCCION\n",
      "7 INSTRUCCION\n",
      "8 INSTRUCCION\n",
      "9 INSTRUCCION\n",
      "10 INSTRUCCION\n",
      "terminó el bucle\n"
     ]
    }
   ],
   "source": [
    "#También se puede usar else como en IF\n",
    "n = 0\n",
    "while n < 10:\n",
    "    n+=1\n",
    "    print(str(n)+' INSTRUCCION')\n",
    "else:\n",
    "    print('terminó el bucle')"
   ]
  },
  {
   "cell_type": "markdown",
   "metadata": {},
   "source": [
    "# break\n",
    "Se usa para detener el bucle de iteraciones, sirve para for y while."
   ]
  },
  {
   "cell_type": "code",
   "execution_count": 20,
   "metadata": {},
   "outputs": [
    {
     "name": "stdout",
     "output_type": "stream",
     "text": [
      "lunes\n",
      "martes\n",
      "miercoles\n",
      "jueves\n"
     ]
    }
   ],
   "source": [
    "#queremos mostrar el nombre en pantalla de los dias de la semana pero que se detenga si el día es viernes\n",
    "dias=['lunes','martes','miercoles','jueves','viernes','sabado','domingo']\n",
    "for dia in dias:\n",
    "    if dia == 'viernes':\n",
    "        break\n",
    "    print(dia)"
   ]
  },
  {
   "cell_type": "markdown",
   "metadata": {},
   "source": [
    "# continue\n",
    "Se usa para saltar una iteración, el bucle continua en la siguiente"
   ]
  },
  {
   "cell_type": "code",
   "execution_count": 19,
   "metadata": {},
   "outputs": [
    {
     "name": "stdout",
     "output_type": "stream",
     "text": [
      "lunes\n",
      "martes\n",
      "miercoles\n",
      "jueves\n",
      "sabado\n",
      "domingo\n"
     ]
    }
   ],
   "source": [
    "#queremos mostrar el nombre en pantalla de los dias de la semana pero que salte si el día es viernes\n",
    "dias=['lunes','martes','miercoles','jueves','viernes','sabado','domingo']\n",
    "for dia in dias:\n",
    "    if dia == 'viernes':\n",
    "        continue\n",
    "    print(dia)"
   ]
  },
  {
   "cell_type": "code",
   "execution_count": null,
   "metadata": {},
   "outputs": [],
   "source": []
  }
 ],
 "metadata": {
  "kernelspec": {
   "display_name": "Python 3",
   "language": "python",
   "name": "python3"
  },
  "language_info": {
   "codemirror_mode": {
    "name": "ipython",
    "version": 3
   },
   "file_extension": ".py",
   "mimetype": "text/x-python",
   "name": "python",
   "nbconvert_exporter": "python",
   "pygments_lexer": "ipython3",
   "version": "3.7.2"
  }
 },
 "nbformat": 4,
 "nbformat_minor": 2
}
