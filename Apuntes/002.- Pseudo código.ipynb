{
 "cells": [
  {
   "cell_type": "markdown",
   "metadata": {},
   "source": [
    "# Script\n",
    "Es un guion de instrucciones para realizar una determinada tarea.\n",
    "\n",
    "# Pseudo código\n",
    "Es una notación previa a la escritura de un programa, sirve para planificar la escritura del script. En el pseudo código se describe que hace y cuales son las variables que intervienen en el script. Se puede hacer con notación técnica simple o en lenguaje coloquial. Para la materia, es obligatorio presentar el pseudocódigo junto con el código en python."
   ]
  },
  {
   "cell_type": "code",
   "execution_count": null,
   "metadata": {},
   "outputs": [],
   "source": [
    "#SCRIPT nombreScript;\n",
    "#VAR\n",
    "#    TIPO var1,var2...varN;\n",
    "#INICIO\n",
    "#    INSTRUCCIÓN 1 - Input\n",
    "#    INSTRUCCIÓN 2 - proceso\n",
    "#    INSTRUCCIÓN 3 - salida\n",
    "#FIN"
   ]
  },
  {
   "cell_type": "markdown",
   "metadata": {},
   "source": [
    "# ejemplo"
   ]
  },
  {
   "cell_type": "code",
   "execution_count": 2,
   "metadata": {},
   "outputs": [],
   "source": [
    "#SCRIPT Cruzar la calle\n",
    "#VARIABLES \n",
    "#    estadoSemaforo\n",
    "#    cruzarCalle\n",
    "\n",
    "#INICIO\n",
    "#    LEER(estadoSemaforo)\n",
    "#    SI (estadoSemaforo = 'ROJO')\n",
    "#        cruzarCalle = TRUE\n",
    "#        MOSTRAR('cruzamos la calle')\n",
    "#    SINO\n",
    "#        cruzarCalle = FALSE\n",
    "#        MOSTRAR('esperamos')\n",
    "#    FIN SI\n",
    "#FIN\n",
    "    "
   ]
  },
  {
   "cell_type": "code",
   "execution_count": null,
   "metadata": {},
   "outputs": [],
   "source": []
  }
 ],
 "metadata": {
  "kernelspec": {
   "display_name": "Python 3",
   "language": "python",
   "name": "python3"
  },
  "language_info": {
   "codemirror_mode": {
    "name": "ipython",
    "version": 3
   },
   "file_extension": ".py",
   "mimetype": "text/x-python",
   "name": "python",
   "nbconvert_exporter": "python",
   "pygments_lexer": "ipython3",
   "version": "3.7.2"
  }
 },
 "nbformat": 4,
 "nbformat_minor": 2
}
