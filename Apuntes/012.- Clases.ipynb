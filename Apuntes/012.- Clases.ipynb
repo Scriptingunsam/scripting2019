{
 "cells": [
  {
   "cell_type": "code",
   "execution_count": 1,
   "metadata": {},
   "outputs": [
    {
     "data": {
      "text/plain": [
       "list"
      ]
     },
     "execution_count": 1,
     "metadata": {},
     "output_type": "execute_result"
    }
   ],
   "source": [
    "#una lista es un objeto de clase lista\n",
    "lista=[10,32,3,4]\n",
    "type(lista)"
   ]
  },
  {
   "cell_type": "markdown",
   "metadata": {},
   "source": [
    "# Programación Orientada a Objetos\n",
    "## ¿Qué son objetos?\n",
    "En python todo está hecho de objetos, desde los tipos de datos hasta las funciones. Entonces, por ejemplo, una cadena de caracteres es un objeto de la clase str o una lista es un objeto de la clase list."
   ]
  },
  {
   "cell_type": "code",
   "execution_count": 2,
   "metadata": {},
   "outputs": [
    {
     "data": {
      "text/plain": [
       "str"
      ]
     },
     "execution_count": 2,
     "metadata": {},
     "output_type": "execute_result"
    }
   ],
   "source": [
    "#Una cadena de caracteres tambien\n",
    "texto = 'Super'\n",
    "type(texto)"
   ]
  },
  {
   "cell_type": "markdown",
   "metadata": {},
   "source": [
    "## ¿Para qué sirven?\n",
    "Hasta ahora, para hacer scripts, la opción para gestionar datos es valerse objetos tipo cadenas de caracteres, enteros, flotantes, listas, diccionarios, tuplas, sets, para crear, modificar, borrar datos.\n",
    "\n",
    "La POO permite crear objetos con atributos personalizados que se adapten a la necesidad de cada script. Entonces, si quiero hacer un script que gestionar materiales, basta con utilizar objetos de clase materiales y sino existe la misma, definir una clase materiales para crear, modificar, borrar los mismos."
   ]
  },
  {
   "cell_type": "code",
   "execution_count": 3,
   "metadata": {},
   "outputs": [
    {
     "data": {
      "text/plain": [
       "'SUPER'"
      ]
     },
     "execution_count": 3,
     "metadata": {},
     "output_type": "execute_result"
    }
   ],
   "source": [
    "#Método de clase str para hacer que el texto se haga mayuscula.\n",
    "texto.upper()"
   ]
  },
  {
   "cell_type": "code",
   "execution_count": 4,
   "metadata": {},
   "outputs": [
    {
     "name": "stdout",
     "output_type": "stream",
     "text": [
      "[3, 4, 10, 32]\n"
     ]
    }
   ],
   "source": [
    "#Método de clase lista para ordenar contenido\n",
    "lista.sort()\n",
    "print(lista)"
   ]
  },
  {
   "cell_type": "markdown",
   "metadata": {},
   "source": [
    "## Momentos de POO\n",
    "El uso de objetos implica dos momentos: uno de definición de clase del objeto y el otro de instanciación de objeto. \n",
    "En la definición de clase se definen atributos tipo datos y métodos(funciones) del objeto. Los atributos de dato son para caracteristicas específicas de ese objeto. Los atributos de método, son funciones que nos ayudan a gestionar el objeto en si.\n",
    "\n",
    "La definición de clase sería como dibujar los planos del edificio y la instanciación construir un edificio en particular.\n",
    "Otro ejemplo, definir una clase galleta es como escribir la receta para galletas y la instanciación cocinar una galleta específica."
   ]
  },
  {
   "cell_type": "code",
   "execution_count": 3,
   "metadata": {},
   "outputs": [],
   "source": [
    "#definición de clase. Sintaxis\n",
    "class Mascota():\n",
    "    _castrado = False\n",
    "    def __init__(self,especie,nombre,color):\n",
    "        pass\n",
    "        self.especie = especie\n",
    "        self.nombre = nombre\n",
    "        self.color = color\n",
    "        \n",
    "    def castrar(self):\n",
    "        self._castrado=True\n",
    "        \n",
    "    def estaCastrado(self):\n",
    "        if self._castrado: print('Está castrado')\n",
    "        else:print('No está castrado')\n",
    "            \n",
    "    "
   ]
  },
  {
   "cell_type": "code",
   "execution_count": 4,
   "metadata": {},
   "outputs": [],
   "source": [
    "#instanciamos la clase mascota en el objeto miMascota.\n",
    "miMascota=Mascota('Gato','Bola de nieve', 'negro')"
   ]
  },
  {
   "cell_type": "code",
   "execution_count": 5,
   "metadata": {},
   "outputs": [
    {
     "name": "stdout",
     "output_type": "stream",
     "text": [
      "No está castrado\n"
     ]
    }
   ],
   "source": [
    "#queremos saber si está castrado\n",
    "miMascota.estaCastrado()"
   ]
  },
  {
   "cell_type": "code",
   "execution_count": 6,
   "metadata": {},
   "outputs": [],
   "source": [
    "#lo castramos\n",
    "miMascota.castrar()"
   ]
  },
  {
   "cell_type": "code",
   "execution_count": 7,
   "metadata": {},
   "outputs": [
    {
     "name": "stdout",
     "output_type": "stream",
     "text": [
      "Está castrado\n"
     ]
    }
   ],
   "source": [
    "#Ahora al preguntar, nuestro gato está castrado\n",
    "miMascota.estaCastrado()"
   ]
  },
  {
   "cell_type": "markdown",
   "metadata": {},
   "source": [
    "## Herencia \n",
    "Habiendo creado una clase princpal, se puede crear subclases que hereden atributos y métodos de la principal."
   ]
  },
  {
   "cell_type": "code",
   "execution_count": 10,
   "metadata": {},
   "outputs": [],
   "source": [
    "#puedo usar la clase mascota para haer un subclase gato\n",
    "class Gato(Mascota):\n",
    "    def __init__(self,raza,vacunasPendientes,uniasCortadas):\n",
    "        self.raza=raza\n",
    "        self.vacunas=vacunasPendientes\n",
    "        self.vacunasPendientes = vacunasPendientes\n",
    "        self.uniasCortadas = uniasCortadas\n"
   ]
  },
  {
   "cell_type": "code",
   "execution_count": 11,
   "metadata": {},
   "outputs": [],
   "source": [
    "miGato=Gato('gato negro',False,True)"
   ]
  },
  {
   "cell_type": "code",
   "execution_count": 15,
   "metadata": {},
   "outputs": [
    {
     "name": "stdout",
     "output_type": "stream",
     "text": [
      "No está castrado\n"
     ]
    }
   ],
   "source": [
    "miGato.estaCastrado()"
   ]
  },
  {
   "cell_type": "code",
   "execution_count": 31,
   "metadata": {},
   "outputs": [],
   "source": [
    "#puedo acceder a un método de la clase principal con el metodo super\n",
    "class Gato(Mascota):\n",
    "    def __init__(self,raza,vacunasPendientes,uniasCortadas,nombre,color):\n",
    "        super(Gato,self).__init__('Gato',nombre,color)\n",
    "        self.raza=raza\n",
    "        self.vacunasPendientes = vacunasPendientes\n",
    "        self.uniasCortadas = uniasCortadas"
   ]
  },
  {
   "cell_type": "code",
   "execution_count": 41,
   "metadata": {},
   "outputs": [],
   "source": [
    "# entonces ahora al instanciar, puedo cargar todos los atributos,\n",
    "#incluidos los de la clase principal\n",
    "tuGato=Gato('gatoBlanco',True,False,'Timoteo','negro')"
   ]
  },
  {
   "cell_type": "code",
   "execution_count": 42,
   "metadata": {},
   "outputs": [
    {
     "data": {
      "text/plain": [
       "'negro'"
      ]
     },
     "execution_count": 42,
     "metadata": {},
     "output_type": "execute_result"
    }
   ],
   "source": [
    "#puedo obtener el color (clase principal)\n",
    "tuGato.color"
   ]
  },
  {
   "cell_type": "code",
   "execution_count": 43,
   "metadata": {},
   "outputs": [
    {
     "data": {
      "text/plain": [
       "'gatoBlanco'"
      ]
     },
     "execution_count": 43,
     "metadata": {},
     "output_type": "execute_result"
    }
   ],
   "source": [
    "#raza (subclase)\n",
    "tuGato.raza"
   ]
  },
  {
   "cell_type": "code",
   "execution_count": 44,
   "metadata": {},
   "outputs": [
    {
     "data": {
      "text/plain": [
       "'Gato'"
      ]
     },
     "execution_count": 44,
     "metadata": {},
     "output_type": "execute_result"
    }
   ],
   "source": [
    "#especie (clase principal)\n",
    "tuGato.especie"
   ]
  },
  {
   "cell_type": "code",
   "execution_count": 45,
   "metadata": {},
   "outputs": [
    {
     "data": {
      "text/plain": [
       "True"
      ]
     },
     "execution_count": 45,
     "metadata": {},
     "output_type": "execute_result"
    }
   ],
   "source": [
    "#vacunas pendientes(subclase)\n",
    "tuGato.vacunasPendientes"
   ]
  },
  {
   "cell_type": "code",
   "execution_count": 37,
   "metadata": {},
   "outputs": [
    {
     "name": "stdout",
     "output_type": "stream",
     "text": [
      "No está castrado\n"
     ]
    }
   ],
   "source": [
    "#Incluso \n",
    "tuGato.estaCastrado()"
   ]
  },
  {
   "cell_type": "code",
   "execution_count": 38,
   "metadata": {},
   "outputs": [],
   "source": [
    "tuGato.castrar()"
   ]
  },
  {
   "cell_type": "code",
   "execution_count": 39,
   "metadata": {},
   "outputs": [
    {
     "name": "stdout",
     "output_type": "stream",
     "text": [
      "Está castrado\n"
     ]
    }
   ],
   "source": [
    "tuGato.estaCastrado()"
   ]
  },
  {
   "cell_type": "markdown",
   "metadata": {},
   "source": [
    "## Métodos especiales\n",
    "En las clases se pueden definir métodos especiales para reemplazar métodos predefinidos en python. "
   ]
  },
  {
   "cell_type": "code",
   "execution_count": 55,
   "metadata": {},
   "outputs": [
    {
     "data": {
      "text/plain": [
       "'<__main__.Gato object at 0x00000189C3F6A160>'"
      ]
     },
     "execution_count": 55,
     "metadata": {},
     "output_type": "execute_result"
    }
   ],
   "source": [
    "#instanciamos otro gato\n",
    "str(tuGato)"
   ]
  },
  {
   "cell_type": "code",
   "execution_count": 63,
   "metadata": {},
   "outputs": [],
   "source": [
    "#Ahora reescribimos la función str dentro de nuestra clase\n",
    "class Gato(Mascota):\n",
    "    def __init__(self,raza,vacunasPendientes,uniasCortadas,nombre,color):\n",
    "        super(Gato,self).__init__('Gato',nombre,color)\n",
    "        self.raza=raza\n",
    "        self.vacunasPendientes = vacunasPendientes\n",
    "        self.uniasCortadas = uniasCortadas\n",
    "        \n",
    "    def __str__(self):\n",
    "        return 'Nuestro gato se llama {}, es de raza {}.'.format(self.nombre,self.raza)\n",
    "    \n",
    "    def __len__(self):\n",
    "        return len(dir(self))"
   ]
  },
  {
   "cell_type": "code",
   "execution_count": 64,
   "metadata": {},
   "outputs": [],
   "source": [
    "otroGato = Gato('persa',False,True,'Pipito','marron')"
   ]
  },
  {
   "cell_type": "code",
   "execution_count": 65,
   "metadata": {},
   "outputs": [
    {
     "name": "stdout",
     "output_type": "stream",
     "text": [
      "Nuestro gato se llama Pipito, es de raza persa.\n"
     ]
    }
   ],
   "source": [
    "print(otroGato)"
   ]
  },
  {
   "cell_type": "code",
   "execution_count": 78,
   "metadata": {},
   "outputs": [
    {
     "data": {
      "text/plain": [
       "36"
      ]
     },
     "execution_count": 78,
     "metadata": {},
     "output_type": "execute_result"
    }
   ],
   "source": [
    "len(otroGato)"
   ]
  },
  {
   "cell_type": "code",
   "execution_count": 79,
   "metadata": {},
   "outputs": [
    {
     "data": {
      "text/plain": [
       "['__class__',\n",
       " '__delattr__',\n",
       " '__dict__',\n",
       " '__dir__',\n",
       " '__doc__',\n",
       " '__eq__',\n",
       " '__format__',\n",
       " '__ge__',\n",
       " '__getattribute__',\n",
       " '__gt__',\n",
       " '__hash__',\n",
       " '__init__',\n",
       " '__init_subclass__',\n",
       " '__le__',\n",
       " '__len__',\n",
       " '__lt__',\n",
       " '__module__',\n",
       " '__ne__',\n",
       " '__new__',\n",
       " '__reduce__',\n",
       " '__reduce_ex__',\n",
       " '__repr__',\n",
       " '__setattr__',\n",
       " '__sizeof__',\n",
       " '__str__',\n",
       " '__subclasshook__',\n",
       " '__weakref__',\n",
       " '_castrado',\n",
       " 'castrar',\n",
       " 'color',\n",
       " 'especie',\n",
       " 'estaCastrado',\n",
       " 'nombre',\n",
       " 'raza',\n",
       " 'uniasCortadas',\n",
       " 'vacunasPendientes']"
      ]
     },
     "execution_count": 79,
     "metadata": {},
     "output_type": "execute_result"
    }
   ],
   "source": [
    "dir(otroGato)"
   ]
  },
  {
   "cell_type": "code",
   "execution_count": 80,
   "metadata": {},
   "outputs": [
    {
     "data": {
      "text/plain": [
       "<function Gato.__dir__()>"
      ]
     },
     "execution_count": 80,
     "metadata": {},
     "output_type": "execute_result"
    }
   ],
   "source": [
    "otroGato.__dir__"
   ]
  },
  {
   "cell_type": "code",
   "execution_count": null,
   "metadata": {},
   "outputs": [],
   "source": []
  }
 ],
 "metadata": {
  "kernelspec": {
   "display_name": "Python 3",
   "language": "python",
   "name": "python3"
  },
  "language_info": {
   "codemirror_mode": {
    "name": "ipython",
    "version": 3
   },
   "file_extension": ".py",
   "mimetype": "text/x-python",
   "name": "python",
   "nbconvert_exporter": "python",
   "pygments_lexer": "ipython3",
   "version": "3.7.2"
  }
 },
 "nbformat": 4,
 "nbformat_minor": 2
}
